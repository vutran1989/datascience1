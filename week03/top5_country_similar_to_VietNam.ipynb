{
 "cells": [
  {
   "cell_type": "markdown",
   "metadata": {},
   "source": [
    "# Import libraries"
   ]
  },
  {
   "cell_type": "code",
   "execution_count": 1,
   "metadata": {},
   "outputs": [],
   "source": [
    "import numpy as np\n",
    "import csv"
   ]
  },
  {
   "cell_type": "markdown",
   "metadata": {},
   "source": [
    "# Load data"
   ]
  },
  {
   "cell_type": "code",
   "execution_count": 2,
   "metadata": {},
   "outputs": [],
   "source": [
    "file = open(\"countries of the world.csv\")"
   ]
  },
  {
   "cell_type": "code",
   "execution_count": 3,
   "metadata": {},
   "outputs": [],
   "source": [
    "raw_data = list(csv.reader(file))"
   ]
  },
  {
   "cell_type": "code",
   "execution_count": 4,
   "metadata": {},
   "outputs": [
    {
     "data": {
      "text/plain": [
       "[['Country',\n",
       "  'Region',\n",
       "  'Population',\n",
       "  'Area (sq. mi.)',\n",
       "  'Pop. Density (per sq. mi.)',\n",
       "  'Coastline (coast/area ratio)',\n",
       "  'Net migration',\n",
       "  'Infant mortality (per 1000 births)',\n",
       "  'GDP ($ per capita)',\n",
       "  'Literacy (%)',\n",
       "  'Phones (per 1000)',\n",
       "  'Arable (%)',\n",
       "  'Crops (%)',\n",
       "  'Other (%)',\n",
       "  'Climate',\n",
       "  'Birthrate',\n",
       "  'Deathrate',\n",
       "  'Agriculture',\n",
       "  'Industry',\n",
       "  'Service'],\n",
       " ['Afghanistan ',\n",
       "  'ASIA (EX. NEAR EAST)         ',\n",
       "  '31056997',\n",
       "  '647500',\n",
       "  '48,0',\n",
       "  '0,00',\n",
       "  '23,06',\n",
       "  '163,07',\n",
       "  '700',\n",
       "  '36,0',\n",
       "  '3,2',\n",
       "  '12,13',\n",
       "  '0,22',\n",
       "  '87,65',\n",
       "  '1',\n",
       "  '46,6',\n",
       "  '20,34',\n",
       "  '0,38',\n",
       "  '0,24',\n",
       "  '0,38']]"
      ]
     },
     "execution_count": 4,
     "metadata": {},
     "output_type": "execute_result"
    }
   ],
   "source": [
    "raw_data[:2]"
   ]
  },
  {
   "cell_type": "markdown",
   "metadata": {},
   "source": [
    "# Separate the header and the actual data"
   ]
  },
  {
   "cell_type": "code",
   "execution_count": 5,
   "metadata": {},
   "outputs": [],
   "source": [
    "header = raw_data[0]"
   ]
  },
  {
   "cell_type": "code",
   "execution_count": 6,
   "metadata": {},
   "outputs": [
    {
     "data": {
      "text/plain": [
       "['Country',\n",
       " 'Region',\n",
       " 'Population',\n",
       " 'Area (sq. mi.)',\n",
       " 'Pop. Density (per sq. mi.)',\n",
       " 'Coastline (coast/area ratio)',\n",
       " 'Net migration',\n",
       " 'Infant mortality (per 1000 births)',\n",
       " 'GDP ($ per capita)',\n",
       " 'Literacy (%)',\n",
       " 'Phones (per 1000)',\n",
       " 'Arable (%)',\n",
       " 'Crops (%)',\n",
       " 'Other (%)',\n",
       " 'Climate',\n",
       " 'Birthrate',\n",
       " 'Deathrate',\n",
       " 'Agriculture',\n",
       " 'Industry',\n",
       " 'Service']"
      ]
     },
     "execution_count": 6,
     "metadata": {},
     "output_type": "execute_result"
    }
   ],
   "source": [
    "header"
   ]
  },
  {
   "cell_type": "code",
   "execution_count": 7,
   "metadata": {},
   "outputs": [],
   "source": [
    "data = raw_data[1:]"
   ]
  },
  {
   "cell_type": "code",
   "execution_count": 8,
   "metadata": {},
   "outputs": [
    {
     "data": {
      "text/plain": [
       "['Afghanistan ',\n",
       " 'ASIA (EX. NEAR EAST)         ',\n",
       " '31056997',\n",
       " '647500',\n",
       " '48,0',\n",
       " '0,00',\n",
       " '23,06',\n",
       " '163,07',\n",
       " '700',\n",
       " '36,0',\n",
       " '3,2',\n",
       " '12,13',\n",
       " '0,22',\n",
       " '87,65',\n",
       " '1',\n",
       " '46,6',\n",
       " '20,34',\n",
       " '0,38',\n",
       " '0,24',\n",
       " '0,38']"
      ]
     },
     "execution_count": 8,
     "metadata": {},
     "output_type": "execute_result"
    }
   ],
   "source": [
    "data[0]"
   ]
  },
  {
   "cell_type": "markdown",
   "metadata": {},
   "source": [
    "# Cleaning Data"
   ]
  },
  {
   "cell_type": "markdown",
   "metadata": {},
   "source": [
    "## Remove white space at the end of strings"
   ]
  },
  {
   "cell_type": "code",
   "execution_count": 9,
   "metadata": {},
   "outputs": [],
   "source": [
    "data = [[c.strip() for c in country] for country in data]"
   ]
  },
  {
   "cell_type": "markdown",
   "metadata": {},
   "source": [
    "## Convert numerical data to type float "
   ]
  },
  {
   "cell_type": "code",
   "execution_count": 10,
   "metadata": {},
   "outputs": [],
   "source": [
    "data = [[float(c.replace(\",\", \".\")) if (i >= 2) & (c != \"\") else c for i, c in enumerate(country)] for country in data]"
   ]
  },
  {
   "cell_type": "code",
   "execution_count": 11,
   "metadata": {},
   "outputs": [
    {
     "data": {
      "text/plain": [
       "['Afghanistan',\n",
       " 'ASIA (EX. NEAR EAST)',\n",
       " 31056997.0,\n",
       " 647500.0,\n",
       " 48.0,\n",
       " 0.0,\n",
       " 23.06,\n",
       " 163.07,\n",
       " 700.0,\n",
       " 36.0,\n",
       " 3.2,\n",
       " 12.13,\n",
       " 0.22,\n",
       " 87.65,\n",
       " 1.0,\n",
       " 46.6,\n",
       " 20.34,\n",
       " 0.38,\n",
       " 0.24,\n",
       " 0.38]"
      ]
     },
     "execution_count": 11,
     "metadata": {},
     "output_type": "execute_result"
    }
   ],
   "source": [
    "data[0]"
   ]
  },
  {
   "cell_type": "code",
   "execution_count": 12,
   "metadata": {},
   "outputs": [
    {
     "data": {
      "text/plain": [
       "227"
      ]
     },
     "execution_count": 12,
     "metadata": {},
     "output_type": "execute_result"
    }
   ],
   "source": [
    "# How many country in our dataset\n",
    "len(data)"
   ]
  },
  {
   "cell_type": "markdown",
   "metadata": {},
   "source": [
    "## Remove rows with missing values "
   ]
  },
  {
   "cell_type": "code",
   "execution_count": 13,
   "metadata": {},
   "outputs": [],
   "source": [
    "# This function has one parameter, a list. \n",
    "# It returns True if the list has no missing value (an empty string), otherwise it returns False\n",
    "def no_missing_value(country):\n",
    "    for item in country:\n",
    "        if item == \"\":\n",
    "            return False\n",
    "    return True"
   ]
  },
  {
   "cell_type": "code",
   "execution_count": 14,
   "metadata": {},
   "outputs": [],
   "source": [
    "# Filter rows that have missing values\n",
    "data_no_missing = list(filter(no_missing_value, data))"
   ]
  },
  {
   "cell_type": "code",
   "execution_count": 15,
   "metadata": {},
   "outputs": [
    {
     "data": {
      "text/plain": [
       "180"
      ]
     },
     "execution_count": 15,
     "metadata": {},
     "output_type": "execute_result"
    }
   ],
   "source": [
    "# How many country left \n",
    "len(data_no_missing)"
   ]
  },
  {
   "cell_type": "markdown",
   "metadata": {},
   "source": [
    "# Find countries that are similar to Vietnam"
   ]
  },
  {
   "cell_type": "markdown",
   "metadata": {},
   "source": [
    "## Create a list of countries"
   ]
  },
  {
   "cell_type": "code",
   "execution_count": 16,
   "metadata": {},
   "outputs": [],
   "source": [
    "countries = [country[0] for country in data_no_missing]"
   ]
  },
  {
   "cell_type": "code",
   "execution_count": 17,
   "metadata": {},
   "outputs": [
    {
     "data": {
      "text/plain": [
       "['Afghanistan', 'Albania', 'Algeria', 'Anguilla', 'Antigua & Barbuda']"
      ]
     },
     "execution_count": 17,
     "metadata": {},
     "output_type": "execute_result"
    }
   ],
   "source": [
    "countries[:5]"
   ]
  },
  {
   "cell_type": "code",
   "execution_count": 18,
   "metadata": {},
   "outputs": [
    {
     "data": {
      "text/plain": [
       "['Vietnam',\n",
       " 'ASIA (EX. NEAR EAST)',\n",
       " 84402966.0,\n",
       " 329560.0,\n",
       " 256.1,\n",
       " 1.05,\n",
       " -0.45,\n",
       " 25.95,\n",
       " 2500.0,\n",
       " 90.3,\n",
       " 187.7,\n",
       " 19.97,\n",
       " 5.95,\n",
       " 74.08,\n",
       " 2.0,\n",
       " 16.86,\n",
       " 6.22,\n",
       " 0.209,\n",
       " 0.41,\n",
       " 0.381]"
      ]
     },
     "execution_count": 18,
     "metadata": {},
     "output_type": "execute_result"
    }
   ],
   "source": [
    "data_no_missing[countries.index(\"Vietnam\")]"
   ]
  },
  {
   "cell_type": "markdown",
   "metadata": {},
   "source": [
    "## Create a 2-d array of numerical data"
   ]
  },
  {
   "cell_type": "code",
   "execution_count": 19,
   "metadata": {},
   "outputs": [],
   "source": [
    "# The numerical data starts from column index 2\n",
    "num_data = np.array([country[2:] for country in data_no_missing])"
   ]
  },
  {
   "cell_type": "code",
   "execution_count": 20,
   "metadata": {},
   "outputs": [
    {
     "data": {
      "text/plain": [
       "(180, 18)"
      ]
     },
     "execution_count": 20,
     "metadata": {},
     "output_type": "execute_result"
    }
   ],
   "source": [
    "num_data.shape"
   ]
  },
  {
   "cell_type": "markdown",
   "metadata": {},
   "source": [
    "*num_data* is a 2 dimentionals array where each row is the data of a country and each column is a statistic of the corresponding country. There are 179 rows (countries), and 18 columns (statistic). To access the data of a country we need to know its row index. We store the list of 179 countries in the variable *countries*, so we can get the (row) index of a country by indexing *countries*"
   ]
  },
  {
   "cell_type": "code",
   "execution_count": 21,
   "metadata": {},
   "outputs": [],
   "source": [
    "vietnam = num_data[countries.index(\"Vietnam\")]"
   ]
  },
  {
   "cell_type": "markdown",
   "metadata": {},
   "source": [
    "## Calculating the Euclidean distances between Vietnam and other countries"
   ]
  },
  {
   "cell_type": "code",
   "execution_count": 22,
   "metadata": {},
   "outputs": [],
   "source": [
    "euclidean_distance = ((vietnam - num_data)**2).sum(axis=1)"
   ]
  },
  {
   "cell_type": "markdown",
   "metadata": {},
   "source": [
    "## Top 5 countries similar to Vietnam"
   ]
  },
  {
   "cell_type": "code",
   "execution_count": 23,
   "metadata": {},
   "outputs": [],
   "source": [
    "# Get the index of top 5 minimum values of euclidean_distance\n",
    "top5_indices = np.argsort(euclidean_distance)[1:6]"
   ]
  },
  {
   "cell_type": "code",
   "execution_count": 24,
   "metadata": {},
   "outputs": [
    {
     "data": {
      "text/plain": [
       "array([ 65, 130,  51,  56, 165], dtype=int64)"
      ]
     },
     "execution_count": 24,
     "metadata": {},
     "output_type": "execute_result"
    }
   ],
   "source": [
    "top5_indices"
   ]
  },
  {
   "cell_type": "code",
   "execution_count": 25,
   "metadata": {},
   "outputs": [
    {
     "data": {
      "text/plain": [
       "array(['Germany', 'Philippines', 'Egypt', 'Ethiopia', 'Turkey'],\n",
       "      dtype='<U32')"
      ]
     },
     "execution_count": 25,
     "metadata": {},
     "output_type": "execute_result"
    }
   ],
   "source": [
    "# Using the above indices to get the list of countries\n",
    "country_array = np.array(countries)\n",
    "country_array[top5_indices]"
   ]
  },
  {
   "cell_type": "markdown",
   "metadata": {},
   "source": [
    "## What's wrong here ?"
   ]
  },
  {
   "cell_type": "markdown",
   "metadata": {},
   "source": [
    "We don't think Vietnam is similar to Germany and Turkey in term of all statistics we have in our dataset. So what is the problem ? First, look at the data of VietNam, Germany, and Turkey."
   ]
  },
  {
   "cell_type": "code",
   "execution_count": 26,
   "metadata": {},
   "outputs": [
    {
     "data": {
      "text/plain": [
       "array([[ 2.5730435e+07,  9.1205000e+05,  2.8200000e+01,  3.1000000e-01,\n",
       "        -4.0000000e-02,  2.2200000e+01,  4.8000000e+03,  9.3400000e+01,\n",
       "         1.4010000e+02,  2.9500000e+00,  9.2000000e-01,  9.6130000e+01,\n",
       "         2.0000000e+00,  1.8710000e+01,  4.9200000e+00,  4.0000000e-02,\n",
       "         4.1900000e-01,  5.4100000e-01],\n",
       "       [ 8.2422299e+07,  3.5702100e+05,  2.3090000e+02,  6.7000000e-01,\n",
       "         2.1800000e+00,  4.1600000e+00,  2.7600000e+04,  9.9000000e+01,\n",
       "         6.6790000e+02,  3.3850000e+01,  5.9000000e-01,  6.5560000e+01,\n",
       "         3.0000000e+00,  8.2500000e+00,  1.0620000e+01,  9.0000000e-03,\n",
       "         2.9600000e-01,  6.9500000e-01],\n",
       "       [ 1.0175014e+07,  1.6361000e+05,  6.2200000e+01,  7.0000000e-01,\n",
       "        -5.7000000e-01,  2.4770000e+01,  6.9000000e+03,  7.4200000e+01,\n",
       "         1.2360000e+02,  1.7860000e+01,  1.3740000e+01,  6.8400000e+01,\n",
       "         3.0000000e+00,  1.5520000e+01,  5.1300000e+00,  1.3200000e-01,\n",
       "         3.1800000e-01,  5.5000000e-01]])"
      ]
     },
     "execution_count": 26,
     "metadata": {},
     "output_type": "execute_result"
    }
   ],
   "source": [
    "num_data[[175, 65, 164]]"
   ]
  },
  {
   "cell_type": "markdown",
   "metadata": {},
   "source": [
    "Notice the first value of each row, which is the population of the country. We see that the populatition of Vietnam is quite close to that of Germany and Turkey. In addition, we observe that the scale of the first and second column (population and area) are significantly larger than the scale of other columns. So that, the eucledian distance we computed are dominated by the difference in population and then area. In other words, the result should be understanded as the top 5 countries similar to Vietnam's population."
   ]
  },
  {
   "cell_type": "markdown",
   "metadata": {},
   "source": [
    "To take into account all statistics, we need to have all columns to be in the same scale. One approach is that we scale the column's values by its max value."
   ]
  },
  {
   "cell_type": "code",
   "execution_count": 27,
   "metadata": {},
   "outputs": [],
   "source": [
    "scale_data = num_data / num_data.max(axis=0)"
   ]
  },
  {
   "cell_type": "code",
   "execution_count": 28,
   "metadata": {},
   "outputs": [
    {
     "data": {
      "text/plain": [
       "array([ 0.0642349 ,  0.03421718,  0.01582525,  0.00120598, -0.01951431,\n",
       "        0.15913411,  0.06613757,  0.903     ,  0.20902004,  0.32152632,\n",
       "        0.12152778,  0.7408    ,  0.5       ,  0.33234772,  0.20914593,\n",
       "        0.27178153,  0.45253863,  0.39937107])"
      ]
     },
     "execution_count": 28,
     "metadata": {},
     "output_type": "execute_result"
    }
   ],
   "source": [
    "scale_data[countries.index(\"Vietnam\")]"
   ]
  },
  {
   "cell_type": "code",
   "execution_count": 29,
   "metadata": {},
   "outputs": [
    {
     "data": {
      "text/plain": [
       "array(['Thailand', 'Indonesia', 'Korea, North', 'Sri Lanka',\n",
       "       'Dominican Republic'], dtype='<U32')"
      ]
     },
     "execution_count": 29,
     "metadata": {},
     "output_type": "execute_result"
    }
   ],
   "source": [
    "vietnam = scale_data[countries.index(\"Vietnam\")]\n",
    "euclidean_distance = ((vietnam - scale_data)**2).sum(axis=1)\n",
    "top5_indices = np.argsort(euclidean_distance)[1:6]\n",
    "country_array[top5_indices]"
   ]
  },
  {
   "cell_type": "markdown",
   "metadata": {},
   "source": [
    "# Create a function "
   ]
  },
  {
   "cell_type": "code",
   "execution_count": 30,
   "metadata": {},
   "outputs": [],
   "source": [
    "def top_5_similar(country_name):\n",
    "    interest_country = scale_data[countries.index(country_name)]\n",
    "    euclidean_distance = ((interest_country - scale_data)**2).sum(axis=1)\n",
    "    top5_indices = np.argsort(euclidean_distance)[1:6]\n",
    "    return country_array[top5_indices]"
   ]
  },
  {
   "cell_type": "code",
   "execution_count": 31,
   "metadata": {},
   "outputs": [
    {
     "data": {
      "text/plain": [
       "array(['Thailand', 'Indonesia', 'Korea, North', 'Sri Lanka',\n",
       "       'Dominican Republic'], dtype='<U32')"
      ]
     },
     "execution_count": 31,
     "metadata": {},
     "output_type": "execute_result"
    }
   ],
   "source": [
    "top_5_similar(\"Vietnam\")"
   ]
  },
  {
   "cell_type": "code",
   "execution_count": 32,
   "metadata": {},
   "outputs": [
    {
     "data": {
      "text/plain": [
       "array(['Australia', 'Sweden', 'Switzerland', 'Bermuda', 'Germany'],\n",
       "      dtype='<U32')"
      ]
     },
     "execution_count": 32,
     "metadata": {},
     "output_type": "execute_result"
    }
   ],
   "source": [
    "top_5_similar(\"United States\")"
   ]
  },
  {
   "cell_type": "code",
   "execution_count": 33,
   "metadata": {},
   "outputs": [
    {
     "data": {
      "text/plain": [
       "array(['Israel', 'Portugal', 'Spain', 'New Zealand', 'Uruguay'],\n",
       "      dtype='<U32')"
      ]
     },
     "execution_count": 33,
     "metadata": {},
     "output_type": "execute_result"
    }
   ],
   "source": [
    "top_5_similar(\"Korea, South\")"
   ]
  },
  {
   "cell_type": "code",
   "execution_count": 34,
   "metadata": {},
   "outputs": [
    {
     "data": {
      "text/plain": [
       "array(['Vietnam', 'Dominican Republic', 'Cuba', 'Philippines', 'Turkey'],\n",
       "      dtype='<U32')"
      ]
     },
     "execution_count": 34,
     "metadata": {},
     "output_type": "execute_result"
    }
   ],
   "source": [
    "top_5_similar(\"Thailand\")"
   ]
  }
 ],
 "metadata": {
  "kernelspec": {
   "display_name": "Python 3",
   "language": "python",
   "name": "python3"
  },
  "language_info": {
   "codemirror_mode": {
    "name": "ipython",
    "version": 3
   },
   "file_extension": ".py",
   "mimetype": "text/x-python",
   "name": "python",
   "nbconvert_exporter": "python",
   "pygments_lexer": "ipython3",
   "version": "3.6.5"
  },
  "toc": {
   "base_numbering": 1,
   "nav_menu": {},
   "number_sections": false,
   "sideBar": false,
   "skip_h1_title": false,
   "title_cell": "Table of Contents",
   "title_sidebar": "Contents",
   "toc_cell": false,
   "toc_position": {},
   "toc_section_display": false,
   "toc_window_display": false
  }
 },
 "nbformat": 4,
 "nbformat_minor": 2
}
