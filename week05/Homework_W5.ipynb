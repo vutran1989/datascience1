{
 "cells": [
  {
   "cell_type": "markdown",
   "metadata": {},
   "source": [
    "# <center >Data Science with Python \n",
    "## <center >Statistical and Data Techniques in Data Science \n",
    "##  <center> Homework 4"
   ]
  },
  {
   "cell_type": "markdown",
   "metadata": {},
   "source": [
    "## Introduction\n",
    "\n",
    "We will be using customer data from a [Portuguese wholesale distributor](https://archive.ics.uci.edu/ml/datasets/Wholesale+customers) for clustering. This data file is called `Wholesale_Customers_Data`.\n",
    "\n",
    "It contains the following features:\n",
    "\n",
    "* Fresh: annual spending (m.u.) on fresh products\n",
    "* Milk: annual spending (m.u.) on milk products\n",
    "* Grocery: annual spending (m.u.) on grocery products\n",
    "* Frozen: annual spending (m.u.) on frozen products\n",
    "* Detergents_Paper: annual spending (m.u.) on detergents and paper products\n",
    "* Delicatessen: annual spending (m.u.) on delicatessen products\n",
    "* Channel: customer channel (1: hotel/restaurant/cafe or 2: retail)\n",
    "* Region: customer region (1: Lisbon, 2: Porto, 3: Other)\n",
    "\n",
    "In this data, the values for all spending are given in an arbitrary unit (m.u. = monetary unit)."
   ]
  },
  {
   "cell_type": "markdown",
   "metadata": {},
   "source": [
    "### Question 1: Data information\n",
    "* Download data from the link: https://archive.ics.uci.edu/ml/datasets/Wholesale+customers\n",
    "(or `customers.csv` in the folder attached ).\n",
    "* Import the data as the name 'data' and check the data head, shape, types, columms. (*Hint:*   `.head()`, `.shape`, `.dtypes`, `.columns.tolist()`.).\n",
    "* Convert columns excluding 'Channel' and 'Region' to floats if necessary (*Hint:*  `.astype(np.float)`.)\n",
    "* Drop out 'Chanel','Region' 'Frozen', 'Detergents_Paper', 'Delicassen' as they will not be used "
   ]
  },
  {
   "cell_type": "code",
   "execution_count": 1,
   "metadata": {},
   "outputs": [],
   "source": [
    "import pandas as pd\n",
    "import numpy as np\n",
    "# Write your code from here, add more cells if needed\n"
   ]
  },
  {
   "cell_type": "markdown",
   "metadata": {},
   "source": [
    "### Quesiton 2: Statistical Description\n",
    "In this question, we only work on the feature 'Grocery'.\n",
    " * Calculate the min, Q1 (i.e., 25%),  median, , Q3(i.e.,75%), max of the annual spending on grocery products\n",
    " * Calculate the mean, range, standard deviation (std), skewness, kurtosis index of the annual spending on grocery products.\n",
    " * Make a boxplot of the annual spending on grocery products.\n",
    " * Make a histogram of the annual spending on grocery products."
   ]
  },
  {
   "cell_type": "code",
   "execution_count": null,
   "metadata": {},
   "outputs": [],
   "source": [
    "# Write your answer from here, add more cells if needed\n"
   ]
  },
  {
   "cell_type": "markdown",
   "metadata": {},
   "source": [
    "### Question 3: Correlation\n",
    "* Calculate the correlation of 'Grocery' and 'Milk'.\n",
    "* Make a scatter plot of 'Grocery' and 'Milk'. (*Hint:* Using Matplotlib `.scatter`)\n",
    "* Make a scatter plot of features together. (*Hint:*  Using Panda `.scatter_matrix`)\n",
    "* Make a heatmap of features together. (*Hint:* Using Seaborn `.heatmap` )"
   ]
  },
  {
   "cell_type": "code",
   "execution_count": null,
   "metadata": {},
   "outputs": [],
   "source": [
    "# Write your answer from here, add more cells if needed"
   ]
  },
  {
   "cell_type": "markdown",
   "metadata": {},
   "source": [
    "### Question 4: Hypothesis testing (part 1)\n",
    "* Find the p-values of the non-correlation of pairs: ('Grocery', 'Milk'), ('Grocery', 'Fresh'), ('Fresh','Milk').\n",
    "* With the significance level 0.1 (p-given or $\\alpha$=0.1), do we reject or accept the hypothesis:\"'Grocery' and 'Milk' are corellated.\"\n",
    "* With the significance level 0.1 (p-given or $\\alpha$=0.1), do we reject or accept the hypothesis:\"'Grocery' and 'Milk' are corellated.\"\n",
    "* With the significance level 0.1 (p-given or $\\alpha$=0.1), do we reject or accept the NULL hypothesis:\"'Grocery' and 'Milk' are non-corellated.\""
   ]
  },
  {
   "cell_type": "code",
   "execution_count": null,
   "metadata": {},
   "outputs": [],
   "source": [
    "# Write your answer from here, add more cells if needed"
   ]
  },
  {
   "cell_type": "markdown",
   "metadata": {},
   "source": [
    "### Question 5: Data Preprocessing\n",
    "* Transform the data by using `np.log` and set the new data as the name 'log_data', then visualize this data by using `pd.scatter_matrix`.\n",
    "* Remove outliers of each features of 'log_data' whose are out of the fencies \"$Q1-IQR*1.5$\" and \"$Q3+IQR*1.5$\", set the new data by the name 'good_log_data' then visualize this data.  "
   ]
  },
  {
   "cell_type": "code",
   "execution_count": null,
   "metadata": {},
   "outputs": [],
   "source": [
    "# Write your answer from here, add more cells if needed"
   ]
  },
  {
   "cell_type": "markdown",
   "metadata": {},
   "source": [
    "### Question 6: Hypothesis testing (part 2) \n",
    "\n",
    " By the method one-sample-t-test, do we accept the following hypotheses with the significant value 0.05 (i.e., p_given)?\n",
    "* The mean of 'Fresh' population (after log-transform) by using the log_data set is different 8.8\n",
    "* The mean of 'Fresh' population (after log-transform) by using the good_log_data set is differenct 8.8\n",
    "\n",
    "By the method of two-sample-t-test, do we acept the following hypotheses with the significant value 0.05 (i.e., p_given)?\n",
    "* The means of 'Fresh' in the log_data and good_log_data are different\n",
    "* The means of 'Milk' in the log_data and good_log_data are different\n"
   ]
  },
  {
   "cell_type": "code",
   "execution_count": null,
   "metadata": {},
   "outputs": [],
   "source": [
    "# Write your answer from here, add more cells if needed"
   ]
  }
 ],
 "metadata": {
  "kernelspec": {
   "display_name": "Python 3",
   "language": "python",
   "name": "python3"
  },
  "language_info": {
   "codemirror_mode": {
    "name": "ipython",
    "version": 3
   },
   "file_extension": ".py",
   "mimetype": "text/x-python",
   "name": "python",
   "nbconvert_exporter": "python",
   "pygments_lexer": "ipython3",
   "version": "3.6.4"
  }
 },
 "nbformat": 4,
 "nbformat_minor": 2
}
